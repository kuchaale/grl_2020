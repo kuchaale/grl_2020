{
 "cells": [
  {
   "cell_type": "markdown",
   "metadata": {
    "toc": true
   },
   "source": [
    "<h1>Table of Contents<span class=\"tocSkip\"></span></h1>\n",
    "<div class=\"toc\"><ul class=\"toc-item\"><li><span><a href=\"#Zonal-wind\" data-toc-modified-id=\"Zonal-wind-1\"><span class=\"toc-item-num\">1&nbsp;&nbsp;</span>Zonal wind</a></span><ul class=\"toc-item\"><li><span><a href=\"#Tropopause\" data-toc-modified-id=\"Tropopause-1.1\"><span class=\"toc-item-num\">1.1&nbsp;&nbsp;</span>Tropopause</a></span></li></ul></li><li><span><a href=\"#Figure-S4\" data-toc-modified-id=\"Figure-S4-2\"><span class=\"toc-item-num\">2&nbsp;&nbsp;</span>Figure S4</a></span></li></ul></div>"
   ]
  },
  {
   "cell_type": "code",
   "execution_count": 5,
   "metadata": {
    "ExecuteTime": {
     "end_time": "2021-02-19T11:26:15.698876Z",
     "start_time": "2021-02-19T11:26:12.954103Z"
    },
    "execution": {
     "iopub.execute_input": "2021-03-08T18:00:06.286548Z",
     "iopub.status.busy": "2021-03-08T18:00:06.285834Z",
     "iopub.status.idle": "2021-03-08T18:00:06.355041Z",
     "shell.execute_reply": "2021-03-08T18:00:06.353695Z",
     "shell.execute_reply.started": "2021-03-08T18:00:06.286474Z"
    },
    "tags": []
   },
   "outputs": [],
   "source": [
    "import xarray as xr\n",
    "import matplotlib.pyplot as plt\n",
    "import matplotlib.ticker as mticker\n",
    "import shapely.geometry as sgeom\n",
    "#import cartopy.crs as ccrs\n",
    "#from cartopy.mpl.gridliner import LONGITUDE_FORMATTER, LATITUDE_FORMATTER\n",
    "from palettable.scientific.diverging import Berlin_20\n",
    "import numpy as np\n",
    "import matplotlib as mpl\n",
    "import glob\n",
    "#%matplotlib inline"
   ]
  },
  {
   "cell_type": "code",
   "execution_count": 2,
   "metadata": {
    "ExecuteTime": {
     "end_time": "2021-02-19T11:26:21.681435Z",
     "start_time": "2021-02-19T11:26:21.576834Z"
    }
   },
   "outputs": [
    {
     "name": "stdout",
     "output_type": "stream",
     "text": [
      "xarray     0.16.2\n",
      "numpy      1.17.3\n",
      "matplotlib 3.1.2\n",
      "CPython 3.6.9\n",
      "IPython 7.16.1\n",
      "\n",
      "compiler   : GCC 8.4.0\n",
      "system     : Linux\n",
      "release    : 4.15.0-122-generic\n",
      "machine    : x86_64\n",
      "processor  : x86_64\n",
      "CPU cores  : 8\n",
      "interpreter: 64bit\n"
     ]
    }
   ],
   "source": [
    "%reload_ext watermark\n",
    "%watermark --iversions -v -m"
   ]
  },
  {
   "cell_type": "code",
   "execution_count": 9,
   "metadata": {
    "ExecuteTime": {
     "end_time": "2021-02-19T11:26:21.688348Z",
     "start_time": "2021-02-19T11:26:21.684799Z"
    },
    "execution": {
     "iopub.execute_input": "2021-03-08T18:00:55.728054Z",
     "iopub.status.busy": "2021-03-08T18:00:55.727425Z",
     "iopub.status.idle": "2021-03-08T18:00:55.735376Z",
     "shell.execute_reply": "2021-03-08T18:00:55.733673Z",
     "shell.execute_reply.started": "2021-03-08T18:00:55.727984Z"
    },
    "tags": []
   },
   "outputs": [],
   "source": [
    "DJF_bool = '_DJFonly'\n",
    "root_path = '/mnt/nas4.meop2/meop40.data.model/CMAM/0A.daily/'\n",
    "cesta = f'{root_path}composites_woSSW{DJF_bool}/'"
   ]
  },
  {
   "cell_type": "markdown",
   "metadata": {},
   "source": [
    "# Zonal wind"
   ]
  },
  {
   "cell_type": "code",
   "execution_count": 10,
   "metadata": {
    "ExecuteTime": {
     "end_time": "2021-02-19T11:26:23.864888Z",
     "start_time": "2021-02-19T11:26:21.691240Z"
    },
    "execution": {
     "iopub.execute_input": "2021-03-08T18:00:58.056960Z",
     "iopub.status.busy": "2021-03-08T18:00:58.056335Z",
     "iopub.status.idle": "2021-03-08T18:01:01.520989Z",
     "shell.execute_reply": "2021-03-08T18:01:01.518625Z",
     "shell.execute_reply.started": "2021-03-08T18:00:58.056890Z"
    },
    "tags": []
   },
   "outputs": [
    {
     "name": "stdout",
     "output_type": "stream",
     "text": [
      "anomalies\n",
      "himalayas\n",
      "himalayas\n",
      "himalayas\n"
     ]
    }
   ],
   "source": [
    "timescale = 20\n",
    "var = 'ua'\n",
    "noe = [11,23,37]\n",
    "\n",
    "e_type = 'himalayas'\n",
    "qbo_type_ls = ['QBOE/', 'QBOW/', '']\n",
    "if var == 'vmro3':\n",
    "    what_ls = ['percentages', 'absolute']\n",
    "else:\n",
    "    what_ls = ['anomalies']\n",
    "da_ls2 = []\n",
    "\n",
    "for what in what_ls:\n",
    "    da_ls = []\n",
    "    print(what)\n",
    "    for i,qbo_type in enumerate(qbo_type_ls):\n",
    "        print(e_type)\n",
    "        da = xr.open_dataarray('{}{}{}_{}_comp_{}_{}days.nc'.format(cesta, qbo_type, var, what, e_type, timescale))\n",
    "        if var != 'lwa':\n",
    "            da['plev'] = da.plev/100.\n",
    "        else:\n",
    "            da = da.rename({'z': 'plev'})\n",
    "\n",
    "        da_ls.append(da)\n",
    "    da_conc = xr.concat(da_ls, dim = 'qbo_type')\n",
    "    da_conc['qbo_type'] = ['QBOE','QBOW', 'all']\n",
    "    da_ls2.append(da_conc)\n",
    "        \n",
    "da_all = xr.concat(da_ls2, dim = 'what')\n",
    "da_all['what'] = what_ls"
   ]
  },
  {
   "cell_type": "markdown",
   "metadata": {},
   "source": [
    "## Tropopause"
   ]
  },
  {
   "cell_type": "code",
   "execution_count": 11,
   "metadata": {
    "ExecuteTime": {
     "end_time": "2020-11-27T15:26:35.289095Z",
     "start_time": "2020-11-27T15:26:35.248511Z"
    },
    "execution": {
     "iopub.execute_input": "2021-03-08T18:01:01.877113Z",
     "iopub.status.busy": "2021-03-08T18:01:01.876481Z",
     "iopub.status.idle": "2021-03-08T18:01:01.925126Z",
     "shell.execute_reply": "2021-03-08T18:01:01.923781Z",
     "shell.execute_reply.started": "2021-03-08T18:01:01.877030Z"
    },
    "tags": []
   },
   "outputs": [],
   "source": [
    "infile_name = '{}{}_{}_comp_*_{}days.nc'.format(cesta, 'ptrop', 'absolute', 20)\n",
    "infiles = glob.glob(infile_name)\n",
    "e_types = list(map(lambda x: x.split('comp_')[1].split('_{}days'.format(timescale))[0], infiles))\n",
    "da_trop =  xr.open_mfdataset(infiles, concat_dim='e_type', combine='nested')\n",
    "da_trop['e_type'] = e_types\n",
    "da_trop['ptrop'] = da_trop.ptrop/100.#da_trop"
   ]
  },
  {
   "cell_type": "markdown",
   "metadata": {},
   "source": [
    "# Figure S4"
   ]
  },
  {
   "cell_type": "code",
   "execution_count": 12,
   "metadata": {
    "ExecuteTime": {
     "end_time": "2020-11-27T15:26:44.041613Z",
     "start_time": "2020-11-27T15:26:43.101835Z"
    },
    "execution": {
     "iopub.execute_input": "2021-03-08T18:01:03.364197Z",
     "iopub.status.busy": "2021-03-08T18:01:03.363619Z",
     "iopub.status.idle": "2021-03-08T18:01:04.675326Z",
     "shell.execute_reply": "2021-03-08T18:01:04.673616Z",
     "shell.execute_reply.started": "2021-03-08T18:01:03.364130Z"
    },
    "tags": []
   },
   "outputs": [
    {
     "name": "stdout",
     "output_type": "stream",
     "text": [
      "ua_anomalies_all_20days_zm_wosignificance_DJFonly_QBO_Himalyasonly.pdf\n"
     ]
    },
    {
     "data": {
      "image/png": "[encoded data removed]",
      "text/plain": [
       "<Figure size 1152x360 with 4 Axes>"
      ]
     },
     "metadata": {
      "needs_background": "light"
     },
     "output_type": "display_data"
    }
   ],
   "source": [
    "mpl.rcParams.update({'font.size': 18})\n",
    "ticks = [-7,-5,-3,-2,-1,0,1,2,3,5,7]\n",
    "clabel = 'zonal wind [m/s]'\n",
    "cbar_dict = dict(orientation=\"horizontal\", spacing='proportional', extend='both', label = clabel, \\\n",
    "                 fraction=.1,  pad = 0.25, ticks = ticks)\n",
    "\n",
    "cmap = Berlin_20.mpl_colormap\n",
    "p = da_all.sel(lag = 0, \\\n",
    "           plev = slice(None, 0.1), \\\n",
    "           lat = slice(-20,None))[0].mean('lon', \n",
    "                                          keep_attrs = True).plot(yincrease = False, \\\n",
    "                                                               col = 'qbo_type',cmap = cmap, \n",
    "                                                              robust = True, size = 5, \n",
    "                                                                          cbar_kwargs=cbar_dict)\n",
    "\n",
    "label_ls = ['A', 'B', 'C', 'D', 'E', 'F', 'G', 'H', 'I']\n",
    "titles = ['QBOE','QBOW','all']\n",
    "for i, (ax, label) in enumerate(zip(p.axes.flatten(), label_ls)):\n",
    "    ax.set_title(f'{titles[i]} ({noe[i]})', fontdict=dict(fontweight = 'bold', fontsize = 22))\n",
    "\n",
    "    ax.text(0.05, 0.95, label, transform=ax.transAxes, fontsize = 20, \n",
    "              fontweight='bold', va='top', bbox={'alpha': 0.7, 'facecolor': 'white'})\n",
    "    if i == 0:\n",
    "        ax.set_ylabel('pressure [hPa]', fontdict=dict(fontsize = 19))\n",
    "        \n",
    "    if i == 1:\n",
    "        ax.set_xlabel('latitude [degree]', fontdict=dict(fontsize = 19))\n",
    "    else:\n",
    "        ax.set_xlabel('')\n",
    "    \n",
    "    ax.hlines(70,-20,90, color = 'green', linestyles='--', linewidths = 3)\n",
    "    if e_type == 'himalayas':\n",
    "        box = sgeom.box(minx=70, maxx=105, miny=20, maxy=40)\n",
    "    elif e_type == 'eastasia':\n",
    "        box = sgeom.box(minx=110, maxx=145, miny=30, maxy=48)\n",
    "    elif e_type == 'westamer':\n",
    "        box = sgeom.box(minx=-125, maxx=-102.5, miny=27.5, maxy=52)\n",
    "    ax.vlines(list(box.bounds)[1::2],90,50, color = 'green', linestyles='--', linewidths = 3)\n",
    "    \n",
    "    da_trop2 = da_trop.ptrop.sel(lag=0, lat = slice(-20,None)).mean('lon')\n",
    "    lat = da_trop2.lat.values\n",
    "    ax.plot(lat, da_trop2.sel(e_type = e_type), 'w--', lw = 3)\n",
    "                 \n",
    "    ax.set_yscale('log')\n",
    "    ax.set_yticks([1000,100,10,1,0.1])\n",
    "    fmt = mpl.ticker.FormatStrFormatter(\"%g\")\n",
    "    ax.yaxis.set_major_formatter(fmt)\n",
    "    ax.set_xticks([0,20,40,60,80])\n",
    "    \n",
    "outfile='{}_{}_{}_{}days_zm_wosignificance_DJFonly_QBO_Himalyasonly.pdf'.format(var, what_ls[0], 'all', timescale)\n",
    "print(outfile)\n",
    "plt.savefig(outfile, dpi = 300, bbox_inches='tight')"
   ]
  }
 ],
 "metadata": {
  "hide_input": false,
  "kernelspec": {
   "display_name": "Python 3",
   "language": "python",
   "name": "python3"
  },
  "language_info": {
   "codemirror_mode": {
    "name": "ipython",
    "version": 3
   },
   "file_extension": ".py",
   "mimetype": "text/x-python",
   "name": "python",
   "nbconvert_exporter": "python",
   "pygments_lexer": "ipython3",
   "version": "3.9.1"
  },
  "latex_envs": {
   "LaTeX_envs_menu_present": true,
   "autoclose": false,
   "autocomplete": true,
   "bibliofile": "biblio.bib",
   "cite_by": "apalike",
   "current_citInitial": 1,
   "eqLabelWithNumbers": true,
   "eqNumInitial": 1,
   "hotkeys": {
    "equation": "Ctrl-E",
    "itemize": "Ctrl-I"
   },
   "labels_anchors": false,
   "latex_user_defs": false,
   "report_style_numbering": false,
   "user_envs_cfg": false
  },
  "toc": {
   "base_numbering": 1,
   "nav_menu": {},
   "number_sections": true,
   "sideBar": true,
   "skip_h1_title": false,
   "title_cell": "Table of Contents",
   "title_sidebar": "Contents",
   "toc_cell": true,
   "toc_position": {},
   "toc_section_display": "block",
   "toc_window_display": false
  }
 },
 "nbformat": 4,
 "nbformat_minor": 4
}
